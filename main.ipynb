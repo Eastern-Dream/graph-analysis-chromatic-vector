{
 "cells": [
  {
   "cell_type": "markdown",
   "id": "83f3690c",
   "metadata": {
    "scrolled": false
   },
   "source": [
    "## Name: Roland Vu\n",
    "\n",
    "## Title: Graph Analysis for Maximum Chromatic Vectors\n",
    "\n",
    "### Background\n",
    "\n",
    "In this project, I have been exploring graph coloring and the chromatic polynomial as part of my undergraduate mathematics research. I analyzed a given dataset of chromatic polynomial of all connected graphs up to order 9, provided by my research advisor, and studied their respective chromatic vectors. I also investigated various graph properties to gain insights into the characteristics of graphs that yield the largest chromatic vectors.\n",
    "\n",
    "### Python Packages and Methods\n",
    "\n",
    "For this research project, I used the following Python packages:\n",
    "\n",
    "- Pandas: for data manipulation and analysis.\n",
    "- NetworkX: for graph theory and graph operations.\n",
    "- NumPy: for data manipulation and matrix operations.\n",
    "- SciPy: for statistical computations.\n",
    "- Matplotlib: for graph visualization.\n",
    "\n",
    "### Code Outline\n",
    "\n",
    "The code for my research project will accomplish the following tasks:\n",
    "\n",
    "1. Load and preprocess the dataset of connected graphs up to order 9 using Pandas.\n",
    "2. Sort the dataset by the chromatic vector and group it by vertices and edges using Pandas.\n",
    "3. Utilize NetworkX in conjunction with Pandas to calculate and add the following graph properties to the dataset:\n",
    "   - Number of spanning tree\n",
    "   - Number of biconnected components\n",
    "   - Number of 3-cycles\n",
    "   - Number of 4-cycles\n",
    "   - Number of 5-cycles\n",
    "   - Number of 6-cycles\n",
    "   - Number of spanning trees\n",
    "   - Degree sequence\n",
    "   - Degree variance\n",
    "   - Degree deviation\n",
    "4. Utilize Pandas to analyze the dataset and identify the graphs that yield the largest chromatic vectors in their respective groups.\n",
    "5. Statistical analysis using Pandas and SciPy to calculate the percentile rank of maximum chromatic vector graph properties versus other non-max graphs within their group.\n",
    "6. Visualize graphs and results using NetworkX in conjunction with Matplotlib for data visualization."
   ]
  },
  {
   "cell_type": "code",
   "execution_count": 1,
   "id": "c1f57d75",
   "metadata": {
    "ExecuteTime": {
     "start_time": "2023-04-14T00:54:23.084217Z",
     "end_time": "2023-04-14T00:54:25.235535Z"
    }
   },
   "outputs": [],
   "source": [
    "# Import pandas, networkx, and matplotlib and some helper functions\n",
    "import numpy as np\n",
    "import pandas as pd\n",
    "import networkx as nx\n",
    "from scipy import stats\n",
    "import matplotlib.pyplot as plt\n",
    "from ast import literal_eval as make_tuple"
   ]
  },
  {
   "cell_type": "code",
   "execution_count": null,
   "id": "1e79df6d",
   "metadata": {},
   "outputs": [],
   "source": [
    "# Read original dataset csv into DataFrame\n",
    "df = pd.read_csv('dataset/vector9.csv')\n",
    "\n",
    "# Remove first couple rows of graph data that is below 6 vertices because they are too small to be useful\n",
    "df = df.drop(df.index[0:29])\n",
    "\n",
    "# Coalesce all chromatic coefficients into a tuple and drop unused columns\n",
    "df['Vector'] = list(zip(df.Coef1, df.Coef2, df.Coef3, df.Coef4, df.Coef5, df.Coef6, df.Coef7, df.Coef8, df.Coef9))\n",
    "df = df.drop(['Coef1', 'Coef2', 'Coef3', 'Coef4', 'Coef5', 'Coef6', 'Coef7', 'Coef8', 'Coef9'], axis=1)\n",
    "\n",
    "# Display dataframe\n",
    "df"
   ]
  },
  {
   "cell_type": "code",
   "execution_count": null,
   "id": "682258aa",
   "metadata": {},
   "outputs": [],
   "source": [
    "# Stable sort means preserving order if elements are equal\n",
    "# Sorting by tuple representation of the chromatic vector as defined in Python standard library\n",
    "df_sorted = df.sort_values(['Vector'], kind='stable')\n",
    "\n",
    "# After that, stable sort DataFrame\n",
    "df_sorted = df_sorted.sort_values(['Vertices', 'Edges'], kind='stable')\n",
    "\n",
    "# Display dataframe\n",
    "df_sorted"
   ]
  },
  {
   "cell_type": "code",
   "execution_count": null,
   "id": "690de8eb",
   "metadata": {},
   "outputs": [],
   "source": [
    "# This cell compute the number of biconnection, 3-cycle, 4-cycle, 5-cycle, 6-cycle, and spanning tree for all graphs\n",
    "# It will also compute the degree sequence, degree variation, and degree deviation for all graphs\n",
    "# This will take at least 2-3 hours to complete on a powerful machine, so save your result after the first time\n",
    "\n",
    "# Instantiate list to hold results\n",
    "spanning_tree_list = list()\n",
    "biconnected_list   = list()\n",
    "three_cycle_list   = list()\n",
    "four_cycle_list    = list()\n",
    "five_cycle_list    = list()\n",
    "six_cycle_list     = list()\n",
    "degree_list        = list()\n",
    "variance_list      = list()\n",
    "deviation_list     = list()\n",
    "\n",
    "# For each graphs, do:\n",
    "for graph6id in df_sorted['G6id']:\n",
    "    \n",
    "    # Convert graph6id to instance of NetworkX graph\n",
    "    G = nx.from_graph6_bytes(graph6id.encode(\"ascii\"))\n",
    "\n",
    "    # Get the Laplacian matrix of G as a numpy array\n",
    "    matrix = nx.laplacian_matrix(G).toarray()\n",
    "\n",
    "    # Delete a row and a column from matrix\n",
    "    matrix = np.delete(matrix, 0, axis=0)\n",
    "    matrix = np.delete(matrix, 0, axis=1)\n",
    "\n",
    "    # Append the determinant of submatrix, aka number of spanning trees, to list\n",
    "    spanning_tree_list.append(int(round(np.linalg.det(matrix))))\n",
    "\n",
    "    # Get number of biconnection and append to list\n",
    "    biconnected_list.append(len(list(nx.biconnected_components(G))))\n",
    "    \n",
    "    # Generate all simple cycles for graph G\n",
    "    cycle_list = list(nx.simple_cycles(G.to_directed()))\n",
    "    \n",
    "    # Trim all '2-cycle' and sort list\n",
    "    cycle_list = [sorted(x) for x in cycle_list if len(x) >= 3]\n",
    "    \n",
    "    # Append number of n-cycle to n_list\n",
    "    three_cycle_list.append(len(set(map(tuple, [x for x in cycle_list if len(x) == 3]))))\n",
    "    four_cycle_list.append(len(set(map(tuple, [x for x in cycle_list if len(x) == 4]))))\n",
    "    five_cycle_list.append(len(set(map(tuple, [x for x in cycle_list if len(x) == 5]))))\n",
    "    six_cycle_list.append(len(set(map(tuple, [x for x in cycle_list if len(x) == 6]))))\n",
    "\n",
    "    # Get degree iterator from graph and map into a tuple\n",
    "    degree = tuple(map(lambda x: x[1], G.degree))\n",
    "\n",
    "    # Append degree tuple to list\n",
    "    degree_list.append(degree)\n",
    "\n",
    "    # Compute the degree mean\n",
    "    mean = sum(degree) / len(degree)\n",
    "\n",
    "    # Compute the variance\n",
    "    variance = sum(map(lambda x: (x - mean) ** 2, degree)) / len(degree)\n",
    "\n",
    "    # Append variance rounded to 4 decimals\n",
    "    variance_list.append(round(variance, 4))\n",
    "\n",
    "    # Compute and append degree standard deviation rounded to 4 decimals\n",
    "    deviation_list.append(round(variance ** 0.5, 4))\n",
    "\n",
    "# Add columns to dataframe\n",
    "df_sorted['SpanningTree'] = spanning_tree_list\n",
    "df_sorted['Biconnection'] = biconnected_list\n",
    "df_sorted['3-cycle']      = three_cycle_list\n",
    "df_sorted['4-cycle']      = four_cycle_list\n",
    "df_sorted['5-cycle']      = five_cycle_list\n",
    "df_sorted['6-cycle']      = six_cycle_list\n",
    "df_sorted['Degree']       = degree_list\n",
    "df_sorted['Variance']     = variance_list\n",
    "df_sorted['Deviation']    = deviation_list\n",
    "\n",
    "# Display dataframe\n",
    "df_sorted"
   ]
  },
  {
   "cell_type": "code",
   "execution_count": 8,
   "id": "96d803c8",
   "metadata": {
    "ExecuteTime": {
     "start_time": "2023-04-12T09:39:09.468033Z",
     "end_time": "2023-04-12T09:39:22.436956Z"
    }
   },
   "outputs": [
    {
     "data": {
      "text/plain": "           G6id  Vertices  Edges  \\\nIndex                              \n29         E?Bw         6      5   \n30         E?bo         6      5   \n32         E?qo         6      5   \n33         E?ow         6      5   \n43         ECR_         6      5   \n...         ...       ...    ...   \n273187  H]~v~~~         9     33   \n273165  HV~~~~~         9     34   \n273188  H]~~~~~         9     34   \n273189  H^~~~~~         9     35   \n273190  H~~~~~~         9     36   \n\n                                                   Vector  Biconnection  \\\nIndex                                                                     \n29                          (1, 5, 10, 10, 5, 1, 0, 0, 0)             5   \n30                          (1, 5, 10, 10, 5, 1, 0, 0, 0)             5   \n32                          (1, 5, 10, 10, 5, 1, 0, 0, 0)             5   \n33                          (1, 5, 10, 10, 5, 1, 0, 0, 0)             5   \n43                          (1, 5, 10, 10, 5, 1, 0, 0, 0)             5   \n...                                                   ...           ...   \n273187  (1, 33, 465, 3632, 17079, 49097, 83375, 75398,...             1   \n273165  (1, 34, 490, 3892, 18529, 53746, 91860, 83448,...             1   \n273188  (1, 34, 491, 3913, 18704, 54481, 93484, 85212,...             1   \n273189  (1, 35, 518, 4214, 20489, 60515, 104992, 96516...             1   \n273190  (1, 36, 546, 4536, 22449, 67284, 118124, 10958...             1   \n\n        3-cycle  4-cycle  5-cycle  6-cycle                       Degree  \\\nIndex                                                                     \n29            0        0        0        0           (1, 1, 1, 1, 1, 5)   \n30            0        0        0        0           (2, 1, 1, 1, 1, 4)   \n32            0        0        0        0           (2, 1, 1, 1, 2, 3)   \n33            0        0        0        0           (1, 1, 1, 1, 3, 3)   \n43            0        0        0        0           (2, 2, 1, 1, 1, 3)   \n...         ...      ...      ...      ...                          ...   \n273187       63      126      126       84  (7, 7, 7, 7, 7, 7, 8, 8, 8)   \n273165       71      120      126       84  (7, 6, 7, 8, 8, 8, 8, 8, 8)   \n273188       70      126      126       84  (7, 7, 7, 7, 8, 8, 8, 8, 8)   \n273189       77      126      126       84  (7, 7, 8, 8, 8, 8, 8, 8, 8)   \n273190       84      126      126       84  (8, 8, 8, 8, 8, 8, 8, 8, 8)   \n\n        Variance  Deviation  SpanningTree  Maximum  \nIndex                                               \n29        2.2222     1.4907             1     True  \n30        1.2222     1.1055             1     True  \n32        0.5556     0.7454             1     True  \n33        0.8889     0.9428             1     True  \n43        0.5556     0.7454             1     True  \n...          ...        ...           ...      ...  \n273187    0.2222     0.4714       2250423     True  \n273165    0.4691     0.6849       2834352    False  \n273188    0.2469     0.4969       2893401     True  \n273189    0.1728     0.4157       3720087     True  \n273190    0.0000     0.0000       4782969     True  \n\n[273162 rows x 14 columns]",
      "text/html": "<div>\n<style scoped>\n    .dataframe tbody tr th:only-of-type {\n        vertical-align: middle;\n    }\n\n    .dataframe tbody tr th {\n        vertical-align: top;\n    }\n\n    .dataframe thead th {\n        text-align: right;\n    }\n</style>\n<table border=\"1\" class=\"dataframe\">\n  <thead>\n    <tr style=\"text-align: right;\">\n      <th></th>\n      <th>G6id</th>\n      <th>Vertices</th>\n      <th>Edges</th>\n      <th>Vector</th>\n      <th>Biconnection</th>\n      <th>3-cycle</th>\n      <th>4-cycle</th>\n      <th>5-cycle</th>\n      <th>6-cycle</th>\n      <th>Degree</th>\n      <th>Variance</th>\n      <th>Deviation</th>\n      <th>SpanningTree</th>\n      <th>Maximum</th>\n    </tr>\n    <tr>\n      <th>Index</th>\n      <th></th>\n      <th></th>\n      <th></th>\n      <th></th>\n      <th></th>\n      <th></th>\n      <th></th>\n      <th></th>\n      <th></th>\n      <th></th>\n      <th></th>\n      <th></th>\n      <th></th>\n      <th></th>\n    </tr>\n  </thead>\n  <tbody>\n    <tr>\n      <th>29</th>\n      <td>E?Bw</td>\n      <td>6</td>\n      <td>5</td>\n      <td>(1, 5, 10, 10, 5, 1, 0, 0, 0)</td>\n      <td>5</td>\n      <td>0</td>\n      <td>0</td>\n      <td>0</td>\n      <td>0</td>\n      <td>(1, 1, 1, 1, 1, 5)</td>\n      <td>2.2222</td>\n      <td>1.4907</td>\n      <td>1</td>\n      <td>True</td>\n    </tr>\n    <tr>\n      <th>30</th>\n      <td>E?bo</td>\n      <td>6</td>\n      <td>5</td>\n      <td>(1, 5, 10, 10, 5, 1, 0, 0, 0)</td>\n      <td>5</td>\n      <td>0</td>\n      <td>0</td>\n      <td>0</td>\n      <td>0</td>\n      <td>(2, 1, 1, 1, 1, 4)</td>\n      <td>1.2222</td>\n      <td>1.1055</td>\n      <td>1</td>\n      <td>True</td>\n    </tr>\n    <tr>\n      <th>32</th>\n      <td>E?qo</td>\n      <td>6</td>\n      <td>5</td>\n      <td>(1, 5, 10, 10, 5, 1, 0, 0, 0)</td>\n      <td>5</td>\n      <td>0</td>\n      <td>0</td>\n      <td>0</td>\n      <td>0</td>\n      <td>(2, 1, 1, 1, 2, 3)</td>\n      <td>0.5556</td>\n      <td>0.7454</td>\n      <td>1</td>\n      <td>True</td>\n    </tr>\n    <tr>\n      <th>33</th>\n      <td>E?ow</td>\n      <td>6</td>\n      <td>5</td>\n      <td>(1, 5, 10, 10, 5, 1, 0, 0, 0)</td>\n      <td>5</td>\n      <td>0</td>\n      <td>0</td>\n      <td>0</td>\n      <td>0</td>\n      <td>(1, 1, 1, 1, 3, 3)</td>\n      <td>0.8889</td>\n      <td>0.9428</td>\n      <td>1</td>\n      <td>True</td>\n    </tr>\n    <tr>\n      <th>43</th>\n      <td>ECR_</td>\n      <td>6</td>\n      <td>5</td>\n      <td>(1, 5, 10, 10, 5, 1, 0, 0, 0)</td>\n      <td>5</td>\n      <td>0</td>\n      <td>0</td>\n      <td>0</td>\n      <td>0</td>\n      <td>(2, 2, 1, 1, 1, 3)</td>\n      <td>0.5556</td>\n      <td>0.7454</td>\n      <td>1</td>\n      <td>True</td>\n    </tr>\n    <tr>\n      <th>...</th>\n      <td>...</td>\n      <td>...</td>\n      <td>...</td>\n      <td>...</td>\n      <td>...</td>\n      <td>...</td>\n      <td>...</td>\n      <td>...</td>\n      <td>...</td>\n      <td>...</td>\n      <td>...</td>\n      <td>...</td>\n      <td>...</td>\n      <td>...</td>\n    </tr>\n    <tr>\n      <th>273187</th>\n      <td>H]~v~~~</td>\n      <td>9</td>\n      <td>33</td>\n      <td>(1, 33, 465, 3632, 17079, 49097, 83375, 75398,...</td>\n      <td>1</td>\n      <td>63</td>\n      <td>126</td>\n      <td>126</td>\n      <td>84</td>\n      <td>(7, 7, 7, 7, 7, 7, 8, 8, 8)</td>\n      <td>0.2222</td>\n      <td>0.4714</td>\n      <td>2250423</td>\n      <td>True</td>\n    </tr>\n    <tr>\n      <th>273165</th>\n      <td>HV~~~~~</td>\n      <td>9</td>\n      <td>34</td>\n      <td>(1, 34, 490, 3892, 18529, 53746, 91860, 83448,...</td>\n      <td>1</td>\n      <td>71</td>\n      <td>120</td>\n      <td>126</td>\n      <td>84</td>\n      <td>(7, 6, 7, 8, 8, 8, 8, 8, 8)</td>\n      <td>0.4691</td>\n      <td>0.6849</td>\n      <td>2834352</td>\n      <td>False</td>\n    </tr>\n    <tr>\n      <th>273188</th>\n      <td>H]~~~~~</td>\n      <td>9</td>\n      <td>34</td>\n      <td>(1, 34, 491, 3913, 18704, 54481, 93484, 85212,...</td>\n      <td>1</td>\n      <td>70</td>\n      <td>126</td>\n      <td>126</td>\n      <td>84</td>\n      <td>(7, 7, 7, 7, 8, 8, 8, 8, 8)</td>\n      <td>0.2469</td>\n      <td>0.4969</td>\n      <td>2893401</td>\n      <td>True</td>\n    </tr>\n    <tr>\n      <th>273189</th>\n      <td>H^~~~~~</td>\n      <td>9</td>\n      <td>35</td>\n      <td>(1, 35, 518, 4214, 20489, 60515, 104992, 96516...</td>\n      <td>1</td>\n      <td>77</td>\n      <td>126</td>\n      <td>126</td>\n      <td>84</td>\n      <td>(7, 7, 8, 8, 8, 8, 8, 8, 8)</td>\n      <td>0.1728</td>\n      <td>0.4157</td>\n      <td>3720087</td>\n      <td>True</td>\n    </tr>\n    <tr>\n      <th>273190</th>\n      <td>H~~~~~~</td>\n      <td>9</td>\n      <td>36</td>\n      <td>(1, 36, 546, 4536, 22449, 67284, 118124, 10958...</td>\n      <td>1</td>\n      <td>84</td>\n      <td>126</td>\n      <td>126</td>\n      <td>84</td>\n      <td>(8, 8, 8, 8, 8, 8, 8, 8, 8)</td>\n      <td>0.0000</td>\n      <td>0.0000</td>\n      <td>4782969</td>\n      <td>True</td>\n    </tr>\n  </tbody>\n</table>\n<p>273162 rows × 14 columns</p>\n</div>"
     },
     "execution_count": 8,
     "metadata": {},
     "output_type": "execute_result"
    }
   ],
   "source": [
    "# This function determines if two chromatic vectors are incomparable or not, it is used to find the maximum element in the partial ordered set\n",
    "# Returns False if two chromatic vector are comparable, True if incomparable\n",
    "def incomparable(v1, v2):\n",
    "    greater = [True if a >= b else False for a, b in zip(v1, v2)]\n",
    "    lesser  = [True if a <= b else False for a, b in zip(v1, v2)]\n",
    "    return not all(greater) != all(lesser)\n",
    "\n",
    "\n",
    "# Create new column for indicating maximum element within its group, default to False\n",
    "df_sorted = df_sorted.assign(Maximum=False)\n",
    "\n",
    "maximum_list = list()\n",
    "\n",
    "# Group by vertices and edges, and for each group dataframe:\n",
    "groups = df_sorted.groupby(['Vertices', 'Edges'])\n",
    "for name, group in groups:\n",
    "\n",
    "    # Get the maximum of current group, which is always the last element\n",
    "    maximum = group.iloc[-1]\n",
    "    # Apply the comparison function to all vectors to the maximum in the group, and extend result to end of list\n",
    "    maximum_list.extend(list(group['Vector'].transform(lambda x: incomparable(make_tuple(maximum['Vector']), make_tuple(x)))))\n",
    "\n",
    "# Set result to column\n",
    "df_sorted['Maximum'] = maximum_list\n",
    "\n",
    "# Display dataframe\n",
    "display(df_sorted)"
   ]
  },
  {
   "cell_type": "code",
   "execution_count": 11,
   "outputs": [],
   "source": [
    "# Output (or overwrite) to new csv\n",
    "df_sorted.to_csv('dataset/sorted.csv')\n",
    "\n",
    "# Output (or overwrite) to new csv\n",
    "maximum_df = df_sorted[df_sorted['Maximum'] == True]\n",
    "maximum_df.to_csv('dataset/maximum.csv')\n",
    "\n",
    "# Group by vertices and edges, and for each group dataframe:\n",
    "groups = df_sorted.groupby(['Vertices', 'Edges'])\n",
    "\n",
    "for name, group in groups:\n",
    "\n",
    "    # Save the group into its own CSV file, for easier analytics\n",
    "    group.to_csv(f'dataset/group/{name[0]}_{name[1]}.csv')"
   ],
   "metadata": {
    "collapsed": false,
    "ExecuteTime": {
     "start_time": "2023-04-12T10:02:22.286565Z",
     "end_time": "2023-04-12T10:02:26.503089Z"
    }
   }
  },
  {
   "cell_type": "code",
   "execution_count": 2,
   "outputs": [
    {
     "name": "stdout",
     "output_type": "stream",
     "text": [
      "Skipping group (6, 5) because it has less than 30 graphs or it was a tree group\n",
      "Skipping group (6, 6) because it has less than 30 graphs or it was a tree group\n",
      "Skipping group (6, 7) because it has less than 30 graphs or it was a tree group\n",
      "Skipping group (6, 8) because it has less than 30 graphs or it was a tree group\n",
      "Skipping group (6, 9) because it has less than 30 graphs or it was a tree group\n",
      "Skipping group (6, 10) because it has less than 30 graphs or it was a tree group\n",
      "Skipping group (6, 11) because it has less than 30 graphs or it was a tree group\n",
      "Skipping group (6, 12) because it has less than 30 graphs or it was a tree group\n",
      "Skipping group (6, 13) because it has less than 30 graphs or it was a tree group\n",
      "Skipping group (6, 14) because it has less than 30 graphs or it was a tree group\n",
      "Skipping group (6, 15) because it has less than 30 graphs or it was a tree group\n",
      "Skipping group (7, 6) because it has less than 30 graphs or it was a tree group\n",
      "Skipping group (7, 16) because it has less than 30 graphs or it was a tree group\n",
      "Skipping group (7, 17) because it has less than 30 graphs or it was a tree group\n",
      "Skipping group (7, 18) because it has less than 30 graphs or it was a tree group\n",
      "Skipping group (7, 19) because it has less than 30 graphs or it was a tree group\n",
      "Skipping group (7, 20) because it has less than 30 graphs or it was a tree group\n",
      "Skipping group (7, 21) because it has less than 30 graphs or it was a tree group\n",
      "Skipping group (8, 7) because it has less than 30 graphs or it was a tree group\n",
      "Skipping group (8, 23) because it has less than 30 graphs or it was a tree group\n",
      "Skipping group (8, 24) because it has less than 30 graphs or it was a tree group\n",
      "Skipping group (8, 25) because it has less than 30 graphs or it was a tree group\n",
      "Skipping group (8, 26) because it has less than 30 graphs or it was a tree group\n",
      "Skipping group (8, 27) because it has less than 30 graphs or it was a tree group\n",
      "Skipping group (8, 28) because it has less than 30 graphs or it was a tree group\n",
      "Skipping group (9, 8) because it has less than 30 graphs or it was a tree group\n",
      "Skipping group (9, 31) because it has less than 30 graphs or it was a tree group\n",
      "Skipping group (9, 32) because it has less than 30 graphs or it was a tree group\n",
      "Skipping group (9, 33) because it has less than 30 graphs or it was a tree group\n",
      "Skipping group (9, 34) because it has less than 30 graphs or it was a tree group\n",
      "Skipping group (9, 35) because it has less than 30 graphs or it was a tree group\n",
      "Skipping group (9, 36) because it has less than 30 graphs or it was a tree group\n",
      "272783\n"
     ]
    }
   ],
   "source": [
    "# This loads in the intermediate CSV with result saved halfway through so that no expensive computation needs to be recalculated\n",
    "df_sorted = pd.read_csv('dataset/sorted.csv', index_col=0)\n",
    "\n",
    "# Initialize new empty dataframe to hold stats data\n",
    "df_stat = pd.DataFrame()\n",
    "\n",
    "# Group by vertices and edges, and for each group dataframe:\n",
    "groups = df_sorted.groupby(['Vertices', 'Edges'])\n",
    "cum = 0\n",
    "for name, group in groups:\n",
    "\n",
    "    # Skip all groups with less than 30 elements (central limit theorem), or if group is a tree\n",
    "    if len(group) < 30 or name[0] == name[1] + 1:\n",
    "        print(f\"Skipping group {name} because it has less than 30 graphs or it was a tree group\")\n",
    "        continue\n",
    "\n",
    "    # Split into non-max and max graphs, and drop columns that we can't perform percentile calculations on\n",
    "    non_maximum = group[group['Maximum'] == False].drop(columns=['G6id', 'Vertices', 'Edges', 'Vector', 'Degree', 'Maximum'])\n",
    "    cum += len(non_maximum)\n",
    "#     maximum     = group[group['Maximum'] == True ].drop(columns=['G6id', 'Vertices', 'Edges', 'Vector', 'Degree', 'Maximum'])\n",
    "#\n",
    "#     # Calculate percentile of score with strict mode, meaning only values less than the value is counted\n",
    "#     for col in non_maximum.columns:\n",
    "#         maximum[col] = stats.percentileofscore(non_maximum[col], maximum[col], kind='strict')\n",
    "#\n",
    "#     # Insert group name for first column\n",
    "#     maximum.insert(0, 'Group', [name] * len(maximum))\n",
    "#\n",
    "#     # Append result to stat Dataframe\n",
    "#     df_stat = pd.concat([df_stat, maximum])\n",
    "#\n",
    "# # Output to new csv\n",
    "# df_stat.to_csv('dataset/stat.csv')\n",
    "#\n",
    "# #Display dataframe\n",
    "# display(df_stat)\n",
    "\n",
    "print(cum)"
   ],
   "metadata": {
    "collapsed": false,
    "ExecuteTime": {
     "start_time": "2023-04-14T00:54:25.238508Z",
     "end_time": "2023-04-14T00:54:25.714368Z"
    }
   }
  },
  {
   "cell_type": "code",
   "execution_count": 23,
   "id": "97f38adf",
   "metadata": {
    "ExecuteTime": {
     "start_time": "2023-04-06T19:38:51.558413Z",
     "end_time": "2023-04-06T19:39:06.011426Z"
    }
   },
   "outputs": [
    {
     "data": {
      "text/plain": "<Figure size 500x500 with 0 Axes>"
     },
     "metadata": {},
     "output_type": "display_data"
    }
   ],
   "source": [
    "# Graph visualization cell, don't run if you already have the images, also it takes about 30 seconds to run\n",
    "\n",
    "# Set graph image size\n",
    "plt.rcParams[\"figure.figsize\"] = (5, 5)\n",
    "\n",
    "# Create and save graph images of 3 different types of layout for each graph\n",
    "for index, graph6id in zip(maximum_df.index, maximum_df['G6id']):\n",
    "\n",
    "    # Create NetworkX graph instance from graph6id\n",
    "    G = nx.from_graph6_bytes(graph6id.encode(\"ascii\"))\n",
    "\n",
    "    # Skip all tree graphs and all complete graphs\n",
    "    if nx.is_tree(G) or G.size() == G.order() * (G.order() - 1) / 2:\n",
    "        continue\n",
    "\n",
    "    # Draw and save Kamada-Kawai layout\n",
    "    nx.draw_kamada_kawai(G)\n",
    "    plt.savefig(f\"images/kamada_kawai/kamada_kawai_{index}.png\")\n",
    "    plt.clf()\n",
    "\n",
    "    # Draw and save shell layout\n",
    "    nx.draw_shell(G)\n",
    "    plt.savefig(f\"images/shell_layout/shell_{index}.png\")\n",
    "    plt.clf()\n",
    "\n",
    "    # Draw and save spring layout\n",
    "    nx.draw_spring(G)\n",
    "    plt.savefig(f\"images/spring_layout/spring_{index}.png\")\n",
    "    plt.clf()"
   ]
  }
 ],
 "metadata": {
  "kernelspec": {
   "display_name": "Python 3 (ipykernel)",
   "language": "python",
   "name": "python3"
  },
  "language_info": {
   "codemirror_mode": {
    "name": "ipython",
    "version": 3
   },
   "file_extension": ".py",
   "mimetype": "text/x-python",
   "name": "python",
   "nbconvert_exporter": "python",
   "pygments_lexer": "ipython3",
   "version": "3.9.13"
  }
 },
 "nbformat": 4,
 "nbformat_minor": 5
}
